{
 "cells": [
  {
   "cell_type": "code",
   "execution_count": 1,
   "id": "8f132226",
   "metadata": {},
   "outputs": [],
   "source": [
    "import pandas as pd\n",
    "import numpy as np"
   ]
  },
  {
   "cell_type": "code",
   "execution_count": 2,
   "id": "3d7ca826",
   "metadata": {},
   "outputs": [
    {
     "data": {
      "text/plain": [
       "'C:\\\\Users\\\\nawin'"
      ]
     },
     "execution_count": 2,
     "metadata": {},
     "output_type": "execute_result"
    }
   ],
   "source": [
    "pwd"
   ]
  },
  {
   "cell_type": "code",
   "execution_count": 3,
   "id": "ad3bdfff",
   "metadata": {},
   "outputs": [],
   "source": [
    "orders_df = pd.read_csv('C:/Users/nawin/ineuron/Datasets/olist_orders_dataset.csv')\n",
    "orders_payment_df = pd.read_csv('C:/Users/nawin/ineuron/Datasets/olist_order_payments_dataset.csv')\n",
    "customers_df = pd.read_csv(\"C:/Users/nawin/ineuron/Datasets/olist_customers_dataset.csv\")\n",
    "order_reviews_df=pd.read_csv(\"C:/Users/nawin/ineuron/Datasets/olist_order_reviews_dataset.csv\")\n",
    "order_items_df=pd.read_csv(\"C:/Users/nawin/ineuron/Datasets/olist_order_items_dataset.csv\")\n",
    "products_df=pd.read_csv(\"C:/Users/nawin/ineuron/Datasets/olist_products_dataset.csv\")\n",
    "product_category_df=pd.read_csv(\"C:/Users/nawin/ineuron/Datasets/product_category_name_translation.csv\")\n",
    "sellers_df=pd.read_csv(\"C:/Users/nawin/ineuron/Datasets/olist_sellers_dataset.csv\")\n",
    "geolocation_df=pd.read_csv(\"C:/Users/nawin/ineuron/Datasets/olist_geolocation_dataset.csv\")"
   ]
  }
 ],
 "metadata": {
  "kernelspec": {
   "display_name": "Python 3 (ipykernel)",
   "language": "python",
   "name": "python3"
  },
  "language_info": {
   "codemirror_mode": {
    "name": "ipython",
    "version": 3
   },
   "file_extension": ".py",
   "mimetype": "text/x-python",
   "name": "python",
   "nbconvert_exporter": "python",
   "pygments_lexer": "ipython3",
   "version": "3.9.12"
  }
 },
 "nbformat": 4,
 "nbformat_minor": 5
}
